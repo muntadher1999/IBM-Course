{
  "metadata": {
    "kernelspec": {
      "name": "python",
      "display_name": "Python (Pyodide)",
      "language": "python"
    },
    "language_info": {
      "codemirror_mode": {
        "name": "python",
        "version": 3
      },
      "file_extension": ".py",
      "mimetype": "text/x-python",
      "name": "python",
      "nbconvert_exporter": "python",
      "pygments_lexer": "ipython3",
      "version": "3.8"
    }
  },
  "nbformat_minor": 5,
  "nbformat": 4,
  "cells": [
    {
      "id": "05790032-aeec-4f12-83cb-706dfc92ed86",
      "cell_type": "markdown",
      "source": "# Data Science Tools and Ecosystem",
      "metadata": {}
    },
    {
      "id": "12d2f3ed-05f4-4a41-9f9a-103e7990f8ae",
      "cell_type": "markdown",
      "source": "In this notebook, Data Science Tools and Ecosystem are summarized.",
      "metadata": {}
    },
    {
      "id": "ee765dd7-8667-4034-806d-3286d282450e",
      "cell_type": "markdown",
      "source": "Some of the popular languages that Data Scientists use are:\n\n1. Python\n2. R\n3. SQL",
      "metadata": {}
    },
    {
      "id": "41ca345f-e0d7-4d7b-b15d-ae598897229f",
      "cell_type": "markdown",
      "source": "**some of the key takeaways from the course:**\n* popular languages for Data Science\n* libraries used by Data Scientists\n* Data Science Tools",
      "metadata": {}
    },
    {
      "id": "1eed7c0c-e6b1-4f0e-be27-3469a8c6c5cb",
      "cell_type": "markdown",
      "source": "Some of the commonly used libraries used by Data Scientists include:\n\n1. Pandas\n2. numPy\n3. Matplotlib ",
      "metadata": {},
      "attachments": {}
    },
    {
      "id": "147f0e5c-d86c-471a-9ba3-74491d268575",
      "cell_type": "markdown",
      "source": "|Data Science Tools|\n|------------------|\n|Jupyter Notebook |\n|RStudio |\n|Spqrk|",
      "metadata": {}
    },
    {
      "id": "37c2a0cf-61d5-4a4c-ad7b-ffba2d246f98",
      "cell_type": "markdown",
      "source": "### Below are a few examples of evaluating arithmetic expressions in Python.",
      "metadata": {}
    },
    {
      "id": "3b23f2bd-f6ce-47fd-b53e-4c12e31b3655",
      "cell_type": "code",
      "source": "# This a simple arithmetic expression to mutiply then add integers\n(3*4)+5",
      "metadata": {
        "trusted": true
      },
      "outputs": [
        {
          "execution_count": 4,
          "output_type": "execute_result",
          "data": {
            "text/plain": "17"
          },
          "metadata": {}
        }
      ],
      "execution_count": 4
    },
    {
      "id": "0e5da70e-fdd1-440a-b41b-6fbffc26eb1e",
      "cell_type": "code",
      "source": "# This will convert 200 minutes to hours by diving by 60\nminutes = 200\nhours = minutes / 60\nprint(hours)",
      "metadata": {
        "trusted": true
      },
      "outputs": [
        {
          "name": "stdout",
          "output_type": "stream",
          "text": "3.3333333333333335\n"
        }
      ],
      "execution_count": 8
    },
    {
      "id": "89482875-822f-48b4-aa66-b4cc353f2aab",
      "cell_type": "markdown",
      "source": "## Author\nMuntadher Alkatteb",
      "metadata": {}
    },
    {
      "id": "beb4afc6-3f26-4989-bcac-7c7b9cf6a829",
      "cell_type": "code",
      "source": "",
      "metadata": {
        "trusted": true
      },
      "outputs": [],
      "execution_count": null
    }
  ]
}